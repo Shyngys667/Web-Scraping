{
 "cells": [
  {
   "cell_type": "markdown",
   "id": "8b1cd0a8-d758-4cbf-afe0-aefb760de203",
   "metadata": {},
   "source": [
    "Web Scraping Data from a Real Website + Pandas "
   ]
  },
  {
   "cell_type": "code",
   "execution_count": 202,
   "id": "728d91e1-975f-4628-8f90-5cdd69e00335",
   "metadata": {},
   "outputs": [],
   "source": [
    "from bs4 import BeautifulSoup\n",
    "import requests"
   ]
  },
  {
   "cell_type": "code",
   "execution_count": 204,
   "id": "773078c3-df22-495d-b62d-66cb5a023ae6",
   "metadata": {},
   "outputs": [],
   "source": [
    "url = 'https://www.hubertiming.com/results/2017GPTR10K'\n",
    "\n",
    "page = requests.get(url)\n",
    "\n",
    "soup = BeautifulSoup(page.text, 'html')"
   ]
  },
  {
   "cell_type": "code",
   "execution_count": 205,
   "id": "cf694f3d-8d31-480e-85ef-ed4b37a67297",
   "metadata": {},
   "outputs": [],
   "source": [
    "table = soup.find_all('table')[1]"
   ]
  },
  {
   "cell_type": "code",
   "execution_count": 206,
   "id": "8f07dd27-991e-414b-9299-097168ffb753",
   "metadata": {},
   "outputs": [
    {
     "data": {
      "text/plain": [
       "[<th>Place</th>,\n",
       " <th>Bib</th>,\n",
       " <th>Name</th>,\n",
       " <th>Gender</th>,\n",
       " <th>City</th>,\n",
       " <th>State</th>,\n",
       " <th>Time</th>,\n",
       " <th>Gun Time</th>,\n",
       " <th>Team</th>]"
      ]
     },
     "execution_count": 206,
     "metadata": {},
     "output_type": "execute_result"
    }
   ],
   "source": [
    "soup.find_all('th')"
   ]
  },
  {
   "cell_type": "code",
   "execution_count": 207,
   "id": "99f409c5-bee7-482e-8be1-00caa51c01fd",
   "metadata": {},
   "outputs": [],
   "source": [
    "titles = soup.find_all('th')"
   ]
  },
  {
   "cell_type": "code",
   "execution_count": 208,
   "id": "42bc66ef-a40d-4b0e-8f2b-20cba80f57fd",
   "metadata": {},
   "outputs": [
    {
     "data": {
      "text/plain": [
       "['Place', 'Bib', 'Name', 'Gender', 'City', 'State', 'Time', 'Gun Time', 'Team']"
      ]
     },
     "execution_count": 208,
     "metadata": {},
     "output_type": "execute_result"
    }
   ],
   "source": [
    "table_titles = [title.text for title in titles]\n",
    "table_titles"
   ]
  },
  {
   "cell_type": "code",
   "execution_count": 209,
   "id": "c53e658c-ce4a-4950-b71c-36fc03f4e3a7",
   "metadata": {},
   "outputs": [],
   "source": [
    "import pandas as pd"
   ]
  },
  {
   "cell_type": "code",
   "execution_count": 211,
   "id": "f0e4f54d-9206-4b0c-9c3f-904f9dca769c",
   "metadata": {},
   "outputs": [
    {
     "data": {
      "text/html": [
       "<div>\n",
       "<style scoped>\n",
       "    .dataframe tbody tr th:only-of-type {\n",
       "        vertical-align: middle;\n",
       "    }\n",
       "\n",
       "    .dataframe tbody tr th {\n",
       "        vertical-align: top;\n",
       "    }\n",
       "\n",
       "    .dataframe thead th {\n",
       "        text-align: right;\n",
       "    }\n",
       "</style>\n",
       "<table border=\"1\" class=\"dataframe\">\n",
       "  <thead>\n",
       "    <tr style=\"text-align: right;\">\n",
       "      <th></th>\n",
       "      <th>Place</th>\n",
       "      <th>Bib</th>\n",
       "      <th>Name</th>\n",
       "      <th>Gender</th>\n",
       "      <th>City</th>\n",
       "      <th>State</th>\n",
       "      <th>Time</th>\n",
       "      <th>Gun Time</th>\n",
       "      <th>Team</th>\n",
       "    </tr>\n",
       "  </thead>\n",
       "  <tbody>\n",
       "  </tbody>\n",
       "</table>\n",
       "</div>"
      ],
      "text/plain": [
       "Empty DataFrame\n",
       "Columns: [Place, Bib, Name, Gender, City, State, Time, Gun Time, Team]\n",
       "Index: []"
      ]
     },
     "execution_count": 211,
     "metadata": {},
     "output_type": "execute_result"
    }
   ],
   "source": [
    "df = pd.DataFrame(columns = table_titles)\n",
    "df"
   ]
  },
  {
   "cell_type": "code",
   "execution_count": 218,
   "id": "149fc1e9-7cab-4794-a916-0b3bc144adf3",
   "metadata": {},
   "outputs": [],
   "source": [
    "column_data = table.find_all('tr')"
   ]
  },
  {
   "cell_type": "code",
   "execution_count": 220,
   "id": "07cc7f7f-40c9-4e49-bc30-94c2d1c2af74",
   "metadata": {},
   "outputs": [],
   "source": [
    "for row in column_data[1:]:\n",
    "    row_data = row.find_all('td')\n",
    "    individual_row_data = [data.text.strip() for data in row_data]\n",
    "\n",
    "    length = len(df)\n",
    "    df.loc[length] = individual_row_data"
   ]
  },
  {
   "cell_type": "code",
   "execution_count": 222,
   "id": "47fb2c21-e0fb-4e18-8ba2-41a202685760",
   "metadata": {
    "scrolled": true
   },
   "outputs": [
    {
     "data": {
      "text/html": [
       "<div>\n",
       "<style scoped>\n",
       "    .dataframe tbody tr th:only-of-type {\n",
       "        vertical-align: middle;\n",
       "    }\n",
       "\n",
       "    .dataframe tbody tr th {\n",
       "        vertical-align: top;\n",
       "    }\n",
       "\n",
       "    .dataframe thead th {\n",
       "        text-align: right;\n",
       "    }\n",
       "</style>\n",
       "<table border=\"1\" class=\"dataframe\">\n",
       "  <thead>\n",
       "    <tr style=\"text-align: right;\">\n",
       "      <th></th>\n",
       "      <th>Place</th>\n",
       "      <th>Bib</th>\n",
       "      <th>Name</th>\n",
       "      <th>Gender</th>\n",
       "      <th>City</th>\n",
       "      <th>State</th>\n",
       "      <th>Time</th>\n",
       "      <th>Gun Time</th>\n",
       "      <th>Team</th>\n",
       "    </tr>\n",
       "  </thead>\n",
       "  <tbody>\n",
       "    <tr>\n",
       "      <th>0</th>\n",
       "      <td>1</td>\n",
       "      <td>814</td>\n",
       "      <td>JARED WILSON</td>\n",
       "      <td>M</td>\n",
       "      <td>TIGARD</td>\n",
       "      <td>OR</td>\n",
       "      <td>36:21</td>\n",
       "      <td>36:24</td>\n",
       "      <td></td>\n",
       "    </tr>\n",
       "    <tr>\n",
       "      <th>1</th>\n",
       "      <td>2</td>\n",
       "      <td>573</td>\n",
       "      <td>NATHAN A SUSTERSIC</td>\n",
       "      <td>M</td>\n",
       "      <td>PORTLAND</td>\n",
       "      <td>OR</td>\n",
       "      <td>36:42</td>\n",
       "      <td>36:45</td>\n",
       "      <td>INTEL TEAM F</td>\n",
       "    </tr>\n",
       "    <tr>\n",
       "      <th>2</th>\n",
       "      <td>3</td>\n",
       "      <td>687</td>\n",
       "      <td>FRANCISCO MAYA</td>\n",
       "      <td>M</td>\n",
       "      <td>PORTLAND</td>\n",
       "      <td>OR</td>\n",
       "      <td>37:44</td>\n",
       "      <td>37:48</td>\n",
       "      <td></td>\n",
       "    </tr>\n",
       "    <tr>\n",
       "      <th>3</th>\n",
       "      <td>4</td>\n",
       "      <td>623</td>\n",
       "      <td>PAUL MORROW</td>\n",
       "      <td>M</td>\n",
       "      <td>BEAVERTON</td>\n",
       "      <td>OR</td>\n",
       "      <td>38:34</td>\n",
       "      <td>38:37</td>\n",
       "      <td></td>\n",
       "    </tr>\n",
       "    <tr>\n",
       "      <th>4</th>\n",
       "      <td>5</td>\n",
       "      <td>569</td>\n",
       "      <td>DEREK G OSBORNE</td>\n",
       "      <td>M</td>\n",
       "      <td>HILLSBORO</td>\n",
       "      <td>OR</td>\n",
       "      <td>39:21</td>\n",
       "      <td>39:24</td>\n",
       "      <td>INTEL TEAM F</td>\n",
       "    </tr>\n",
       "    <tr>\n",
       "      <th>...</th>\n",
       "      <td>...</td>\n",
       "      <td>...</td>\n",
       "      <td>...</td>\n",
       "      <td>...</td>\n",
       "      <td>...</td>\n",
       "      <td>...</td>\n",
       "      <td>...</td>\n",
       "      <td>...</td>\n",
       "      <td>...</td>\n",
       "    </tr>\n",
       "    <tr>\n",
       "      <th>572</th>\n",
       "      <td>573</td>\n",
       "      <td>273</td>\n",
       "      <td>RACHEL L VANEY</td>\n",
       "      <td>F</td>\n",
       "      <td>OTHER</td>\n",
       "      <td>OR</td>\n",
       "      <td>1:38:17</td>\n",
       "      <td>1:38:34</td>\n",
       "      <td></td>\n",
       "    </tr>\n",
       "    <tr>\n",
       "      <th>573</th>\n",
       "      <td>574</td>\n",
       "      <td>467</td>\n",
       "      <td>ROHIT B DSOUZA</td>\n",
       "      <td>M</td>\n",
       "      <td>PORTLAND</td>\n",
       "      <td>OR</td>\n",
       "      <td>1:38:31</td>\n",
       "      <td>1:40:32</td>\n",
       "      <td>INTEL TEAM I</td>\n",
       "    </tr>\n",
       "    <tr>\n",
       "      <th>574</th>\n",
       "      <td>575</td>\n",
       "      <td>471</td>\n",
       "      <td>CENITA D'SOUZA</td>\n",
       "      <td>F</td>\n",
       "      <td>PORTLAND</td>\n",
       "      <td>OR</td>\n",
       "      <td>1:38:32</td>\n",
       "      <td>1:40:34</td>\n",
       "      <td></td>\n",
       "    </tr>\n",
       "    <tr>\n",
       "      <th>575</th>\n",
       "      <td>576</td>\n",
       "      <td>338</td>\n",
       "      <td>PRANAVI APPANA</td>\n",
       "      <td>F</td>\n",
       "      <td>HILLSBORO</td>\n",
       "      <td>OR</td>\n",
       "      <td>1:40:47</td>\n",
       "      <td>1:42:01</td>\n",
       "      <td></td>\n",
       "    </tr>\n",
       "    <tr>\n",
       "      <th>576</th>\n",
       "      <td>577</td>\n",
       "      <td>443</td>\n",
       "      <td>LIBBY B MITCHELL</td>\n",
       "      <td>F</td>\n",
       "      <td>HILLSBORO</td>\n",
       "      <td>OR</td>\n",
       "      <td>1:41:18</td>\n",
       "      <td>1:42:10</td>\n",
       "      <td></td>\n",
       "    </tr>\n",
       "  </tbody>\n",
       "</table>\n",
       "<p>577 rows × 9 columns</p>\n",
       "</div>"
      ],
      "text/plain": [
       "    Place  Bib                Name Gender       City State     Time Gun Time  \\\n",
       "0       1  814        JARED WILSON      M     TIGARD    OR    36:21    36:24   \n",
       "1       2  573  NATHAN A SUSTERSIC      M   PORTLAND    OR    36:42    36:45   \n",
       "2       3  687      FRANCISCO MAYA      M   PORTLAND    OR    37:44    37:48   \n",
       "3       4  623         PAUL MORROW      M  BEAVERTON    OR    38:34    38:37   \n",
       "4       5  569     DEREK G OSBORNE      M  HILLSBORO    OR    39:21    39:24   \n",
       "..    ...  ...                 ...    ...        ...   ...      ...      ...   \n",
       "572   573  273      RACHEL L VANEY      F      OTHER    OR  1:38:17  1:38:34   \n",
       "573   574  467      ROHIT B DSOUZA      M   PORTLAND    OR  1:38:31  1:40:32   \n",
       "574   575  471      CENITA D'SOUZA      F   PORTLAND    OR  1:38:32  1:40:34   \n",
       "575   576  338      PRANAVI APPANA      F  HILLSBORO    OR  1:40:47  1:42:01   \n",
       "576   577  443    LIBBY B MITCHELL      F  HILLSBORO    OR  1:41:18  1:42:10   \n",
       "\n",
       "             Team  \n",
       "0                  \n",
       "1    INTEL TEAM F  \n",
       "2                  \n",
       "3                  \n",
       "4    INTEL TEAM F  \n",
       "..            ...  \n",
       "572                \n",
       "573  INTEL TEAM I  \n",
       "574                \n",
       "575                \n",
       "576                \n",
       "\n",
       "[577 rows x 9 columns]"
      ]
     },
     "execution_count": 222,
     "metadata": {},
     "output_type": "execute_result"
    }
   ],
   "source": [
    "df"
   ]
  },
  {
   "cell_type": "code",
   "execution_count": 224,
   "id": "c8c7dc84-b5b6-4510-8865-93f68a423bdd",
   "metadata": {},
   "outputs": [
    {
     "name": "stdout",
     "output_type": "stream",
     "text": [
      "<class 'pandas.core.frame.DataFrame'>\n",
      "Index: 577 entries, 0 to 576\n",
      "Data columns (total 9 columns):\n",
      " #   Column    Non-Null Count  Dtype \n",
      "---  ------    --------------  ----- \n",
      " 0   Place     577 non-null    object\n",
      " 1   Bib       577 non-null    object\n",
      " 2   Name      577 non-null    object\n",
      " 3   Gender    577 non-null    object\n",
      " 4   City      577 non-null    object\n",
      " 5   State     577 non-null    object\n",
      " 6   Time      577 non-null    object\n",
      " 7   Gun Time  577 non-null    object\n",
      " 8   Team      577 non-null    object\n",
      "dtypes: object(9)\n",
      "memory usage: 45.1+ KB\n"
     ]
    }
   ],
   "source": [
    "df.info()"
   ]
  },
  {
   "cell_type": "code",
   "execution_count": 226,
   "id": "84e20a6e-6bdf-4c4d-be21-b894e764c82c",
   "metadata": {},
   "outputs": [
    {
     "data": {
      "text/plain": [
       "0        36:24\n",
       "1        36:45\n",
       "2        37:48\n",
       "3        38:37\n",
       "4        39:24\n",
       "        ...   \n",
       "572    1:38:34\n",
       "573    1:40:32\n",
       "574    1:40:34\n",
       "575    1:42:01\n",
       "576    1:42:10\n",
       "Name: Gun Time, Length: 577, dtype: object"
      ]
     },
     "execution_count": 226,
     "metadata": {},
     "output_type": "execute_result"
    }
   ],
   "source": [
    "df['Place'] = df['Place'].astype('int64')\n",
    "df['Bib'] = df['Bib'].astype('int64')\n",
    "df['Time'].astype(str)\n",
    "df['Gun Time'].astype(str)"
   ]
  },
  {
   "cell_type": "code",
   "execution_count": 228,
   "id": "5f18becf-e3e7-4b13-ae18-e322e72b2119",
   "metadata": {},
   "outputs": [
    {
     "name": "stderr",
     "output_type": "stream",
     "text": [
      "C:\\Users\\galym\\AppData\\Local\\Temp\\ipykernel_3396\\2270595633.py:3: SettingWithCopyWarning: \n",
      "A value is trying to be set on a copy of a slice from a DataFrame.\n",
      "Try using .loc[row_indexer,col_indexer] = value instead\n",
      "\n",
      "See the caveats in the documentation: https://pandas.pydata.org/pandas-docs/stable/user_guide/indexing.html#returning-a-view-versus-a-copy\n",
      "  df['Time'] = pd.to_timedelta(df['Time'].str.zfill(5).apply(lambda x: f\"00:{x}\"))\n"
     ]
    }
   ],
   "source": [
    "# Filter out rows that are not in the MM:SS format\n",
    "df = df[df['Time'].str.match(r'^\\d{1,2}:\\d{2}$')]\n",
    "df['Time'] = pd.to_timedelta(df['Time'].str.zfill(5).apply(lambda x: f\"00:{x}\"))\n",
    "df = df[df['Gun Time'].str.match(r'^\\d{1,2}:\\d{2}$')]\n",
    "df['Gun Time'] = pd.to_timedelta(df['Gun Time'].str.zfill(5).apply(lambda x: f\"00:{x}\"))"
   ]
  },
  {
   "cell_type": "code",
   "execution_count": 230,
   "id": "f467971b-fb31-487d-b2c2-f3e4b03360fd",
   "metadata": {},
   "outputs": [
    {
     "name": "stdout",
     "output_type": "stream",
     "text": [
      "<class 'pandas.core.frame.DataFrame'>\n",
      "Index: 289 entries, 0 to 299\n",
      "Data columns (total 9 columns):\n",
      " #   Column    Non-Null Count  Dtype          \n",
      "---  ------    --------------  -----          \n",
      " 0   Place     289 non-null    int64          \n",
      " 1   Bib       289 non-null    int64          \n",
      " 2   Name      289 non-null    object         \n",
      " 3   Gender    289 non-null    object         \n",
      " 4   City      289 non-null    object         \n",
      " 5   State     289 non-null    object         \n",
      " 6   Time      289 non-null    timedelta64[ns]\n",
      " 7   Gun Time  289 non-null    timedelta64[ns]\n",
      " 8   Team      289 non-null    object         \n",
      "dtypes: int64(2), object(5), timedelta64[ns](2)\n",
      "memory usage: 22.6+ KB\n"
     ]
    }
   ],
   "source": [
    "df.info()"
   ]
  },
  {
   "cell_type": "code",
   "execution_count": 232,
   "id": "e2e4313b-8474-4cba-b8c5-c336e7477afc",
   "metadata": {},
   "outputs": [
    {
     "data": {
      "text/html": [
       "<div>\n",
       "<style scoped>\n",
       "    .dataframe tbody tr th:only-of-type {\n",
       "        vertical-align: middle;\n",
       "    }\n",
       "\n",
       "    .dataframe tbody tr th {\n",
       "        vertical-align: top;\n",
       "    }\n",
       "\n",
       "    .dataframe thead th {\n",
       "        text-align: right;\n",
       "    }\n",
       "</style>\n",
       "<table border=\"1\" class=\"dataframe\">\n",
       "  <thead>\n",
       "    <tr style=\"text-align: right;\">\n",
       "      <th></th>\n",
       "      <th>Place</th>\n",
       "      <th>Bib</th>\n",
       "      <th>Name</th>\n",
       "      <th>Gender</th>\n",
       "      <th>City</th>\n",
       "      <th>State</th>\n",
       "      <th>Time</th>\n",
       "      <th>Gun Time</th>\n",
       "      <th>Team</th>\n",
       "    </tr>\n",
       "  </thead>\n",
       "  <tbody>\n",
       "    <tr>\n",
       "      <th>0</th>\n",
       "      <td>1</td>\n",
       "      <td>814</td>\n",
       "      <td>JARED WILSON</td>\n",
       "      <td>M</td>\n",
       "      <td>TIGARD</td>\n",
       "      <td>OR</td>\n",
       "      <td>0 days 00:36:21</td>\n",
       "      <td>0 days 00:36:24</td>\n",
       "      <td></td>\n",
       "    </tr>\n",
       "    <tr>\n",
       "      <th>1</th>\n",
       "      <td>2</td>\n",
       "      <td>573</td>\n",
       "      <td>NATHAN A SUSTERSIC</td>\n",
       "      <td>M</td>\n",
       "      <td>PORTLAND</td>\n",
       "      <td>OR</td>\n",
       "      <td>0 days 00:36:42</td>\n",
       "      <td>0 days 00:36:45</td>\n",
       "      <td>INTEL TEAM F</td>\n",
       "    </tr>\n",
       "    <tr>\n",
       "      <th>2</th>\n",
       "      <td>3</td>\n",
       "      <td>687</td>\n",
       "      <td>FRANCISCO MAYA</td>\n",
       "      <td>M</td>\n",
       "      <td>PORTLAND</td>\n",
       "      <td>OR</td>\n",
       "      <td>0 days 00:37:44</td>\n",
       "      <td>0 days 00:37:48</td>\n",
       "      <td></td>\n",
       "    </tr>\n",
       "    <tr>\n",
       "      <th>3</th>\n",
       "      <td>4</td>\n",
       "      <td>623</td>\n",
       "      <td>PAUL MORROW</td>\n",
       "      <td>M</td>\n",
       "      <td>BEAVERTON</td>\n",
       "      <td>OR</td>\n",
       "      <td>0 days 00:38:34</td>\n",
       "      <td>0 days 00:38:37</td>\n",
       "      <td></td>\n",
       "    </tr>\n",
       "    <tr>\n",
       "      <th>4</th>\n",
       "      <td>5</td>\n",
       "      <td>569</td>\n",
       "      <td>DEREK G OSBORNE</td>\n",
       "      <td>M</td>\n",
       "      <td>HILLSBORO</td>\n",
       "      <td>OR</td>\n",
       "      <td>0 days 00:39:21</td>\n",
       "      <td>0 days 00:39:24</td>\n",
       "      <td>INTEL TEAM F</td>\n",
       "    </tr>\n",
       "  </tbody>\n",
       "</table>\n",
       "</div>"
      ],
      "text/plain": [
       "   Place  Bib                Name Gender       City State            Time  \\\n",
       "0      1  814        JARED WILSON      M     TIGARD    OR 0 days 00:36:21   \n",
       "1      2  573  NATHAN A SUSTERSIC      M   PORTLAND    OR 0 days 00:36:42   \n",
       "2      3  687      FRANCISCO MAYA      M   PORTLAND    OR 0 days 00:37:44   \n",
       "3      4  623         PAUL MORROW      M  BEAVERTON    OR 0 days 00:38:34   \n",
       "4      5  569     DEREK G OSBORNE      M  HILLSBORO    OR 0 days 00:39:21   \n",
       "\n",
       "         Gun Time          Team  \n",
       "0 0 days 00:36:24                \n",
       "1 0 days 00:36:45  INTEL TEAM F  \n",
       "2 0 days 00:37:48                \n",
       "3 0 days 00:38:37                \n",
       "4 0 days 00:39:24  INTEL TEAM F  "
      ]
     },
     "execution_count": 232,
     "metadata": {},
     "output_type": "execute_result"
    }
   ],
   "source": [
    "df.head()"
   ]
  },
  {
   "cell_type": "code",
   "execution_count": null,
   "id": "5808a96b-7bc9-4872-ab97-f8b4f211ff45",
   "metadata": {},
   "outputs": [],
   "source": []
  }
 ],
 "metadata": {
  "kernelspec": {
   "display_name": "Python 3 (ipykernel)",
   "language": "python",
   "name": "python3"
  },
  "language_info": {
   "codemirror_mode": {
    "name": "ipython",
    "version": 3
   },
   "file_extension": ".py",
   "mimetype": "text/x-python",
   "name": "python",
   "nbconvert_exporter": "python",
   "pygments_lexer": "ipython3",
   "version": "3.12.4"
  }
 },
 "nbformat": 4,
 "nbformat_minor": 5
}
